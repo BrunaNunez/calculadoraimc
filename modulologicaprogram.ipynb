{
  "nbformat": 4,
  "nbformat_minor": 0,
  "metadata": {
    "colab": {
      "provenance": []
    },
    "kernelspec": {
      "name": "python3",
      "display_name": "Python 3"
    },
    "language_info": {
      "name": "python"
    }
  },
  "cells": [
    {
      "cell_type": "code",
      "source": [
        "print(\"Cálculo de IMC\")\n",
        "\n",
        "# Entrada de dados\n",
        "peso = float(input(\"Digite seu peso (kg): \"))\n",
        "altura = float(input(\"Digite sua altura (m): \"))\n",
        "\n",
        "# Cálculo do IMC\n",
        "imc = peso / (altura ** 2)\n",
        "print(f\"\\nSeu IMC é: {imc:.2f}\")\n",
        "\n",
        "# Verificação da faixa de IMC\n",
        "if imc < 18.5:\n",
        "    print(\"Você está abaixo do peso.\")\n",
        "\n",
        "elif 18.5 <= imc <= 24.9:\n",
        "    print(\"Você está com peso normal.\")\n",
        "\n",
        "else:\n",
        "    if imc <= 29.9:\n",
        "        print(\"Você está com sobrepeso.\")\n",
        "    else:\n",
        "        print(\"Você está com obesidade.\")\n",
        "\n",
        "    # Cálculo do peso ideal\n",
        "    peso_ideal = 24.9 * (altura ** 2)\n",
        "    diferenca = peso - peso_ideal\n",
        "\n",
        "    print(f\"\\nSeu peso ideal seria até: {peso_ideal:.2f} kg\")\n",
        "    print(f\"Você precisa perder aproximadamente {diferenca:.2f} kg para atingir o peso ideal.\\n\")\n",
        "\n",
        "    # Loop para simular novos pesos até atingir o peso ideal\n",
        "    while peso > peso_ideal:\n",
        "        peso = float(input(\"Digite um novo peso para simular (ou digite um peso menor para testar): \"))\n",
        "        novo_imc = peso / (altura ** 2)\n",
        "        print(f\"Novo IMC: {novo_imc:.2f}\")\n",
        "\n",
        "        if novo_imc <= 24.9:\n",
        "            print(\"Parabéns! Você está dentro do peso ideal.\")\n",
        "            break\n",
        "        else:\n",
        "            print(\"Ainda está acima do peso ideal. Continue tentando.\\n\")"
      ],
      "metadata": {
        "colab": {
          "base_uri": "https://localhost:8080/"
        },
        "id": "EpUyM6YLREd9",
        "outputId": "88a77725-da88-433a-ef6e-f0477386d3a6"
      },
      "execution_count": 11,
      "outputs": [
        {
          "output_type": "stream",
          "name": "stdout",
          "text": [
            "Cálculo de IMC\n",
            "Digite seu peso (kg): 140\n",
            "Digite sua altura (m): 1.77\n",
            "\n",
            "Seu IMC é: 44.69\n",
            "Você está com obesidade.\n",
            "\n",
            "Seu peso ideal seria até: 78.01 kg\n",
            "Você precisa perder aproximadamente 61.99 kg para atingir o peso ideal.\n",
            "\n",
            "Digite um novo peso para simular (ou digite um peso menor para testar): 88\n",
            "Novo IMC: 28.09\n",
            "Ainda está acima do peso ideal. Continue tentando.\n",
            "\n",
            "Digite um novo peso para simular (ou digite um peso menor para testar): 79\n",
            "Novo IMC: 25.22\n",
            "Ainda está acima do peso ideal. Continue tentando.\n",
            "\n",
            "Digite um novo peso para simular (ou digite um peso menor para testar): 77\n",
            "Novo IMC: 24.58\n",
            "Parabéns! Você está dentro do peso ideal.\n"
          ]
        }
      ]
    }
  ]
}